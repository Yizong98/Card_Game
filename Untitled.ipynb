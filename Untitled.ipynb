{
 "cells": [
  {
   "cell_type": "code",
   "execution_count": 26,
   "metadata": {
    "collapsed": true
   },
   "outputs": [],
   "source": [
    "class Card():\n",
    "    '''\n",
    "    This class represents a single card\n",
    "    Also compares two cards\n",
    "\n",
    "    >>> c1 = Card(4, \"Clubs\")\n",
    "    >>> print(c1)\n",
    "    4 of Clubs\n",
    "\n",
    "    >>> c2 = Card(3, \"Hearts\")\n",
    "    >>> print(c2)\n",
    "    3 of Hearts\n",
    "\n",
    "    >>> c1 < c2\n",
    "    True\n",
    "\n",
    "    >>> c1 > c2\n",
    "    False\n",
    "\n",
    "    >>> c1 == c2\n",
    "    False\n",
    "    '''\n",
    "    compare_dict_suit = {\"Clubs\":0,\"Diamonds\":1,\"Hearts\":2,\"Spades\":3}\n",
    "    compare_dict_rank = {\"Ace\":1,2:2,3:3,4:4,5:5,6:6,7:7,8:8,9:9,10:10,\"Jack\":11,\"Queen\":12,\"King\":13}\n",
    "    \n",
    "    def __init__(self, rank, suit):\n",
    "        ### your code here\n",
    "        self.rank = rank\n",
    "        self.suit = suit\n",
    "        return\n",
    "\n",
    "    def __repr__(self):\n",
    "        ### your code here\n",
    "        return \"'%s of %s'\"%(self.rank,self.suit)\n",
    "\n",
    "    def __str__(self):\n",
    "        ### your code here\n",
    "        return \"{} of {}\".format(self.rank,self.suit)\n",
    "\n",
    "    def __eq__(self,other):\n",
    "        ### your code here\n",
    "        if compare_dict_suit[self.suit] == compare_dict_suit[other.suit] and compare_dict_rank[self.rank] == compare_dict_rank[other.rank]:\n",
    "            return True\n",
    "        return False\n",
    "\n",
    "    def __ne__(self,other):\n",
    "        ### your code here\n",
    "        return not __eq__(self,other)\n",
    "\n",
    "    def __lt__(self,other):\n",
    "        ### your code here\n",
    "        if compare_dict_suit[self.suit] < compare_dict_suit[other.suit]:\n",
    "            return True\n",
    "        elif compare_dict_suit[self.suit] == compare_dict_suit[other.suit] and compare_dict_rank[self.rank] < compare_dict_rank[other.rank]:\n",
    "            return True\n",
    "        return False\n",
    "\n",
    "    def __gt__(self,other):\n",
    "        ### your code here\n",
    "        if compare_dict_suit[self.suit] > compare_dict_suit[other.suit]:\n",
    "            return True\n",
    "        elif compare_dict_suit[self.suit] == compare_dict_suit[other.suit] and compare_dict_rank[self.rank] > compare_dict_rank[other.rank]:\n",
    "            return True\n",
    "        return False\n",
    "\n",
    "    def __le__(self,other):\n",
    "        ### your code here\n",
    "        return __lt__(self,other) or __eq__(self,other)\n",
    "\n",
    "    def __ge__(self,other):\n",
    "        ### your code here\n",
    "        return __gt__(self,other) or __eq__(self,other)"
   ]
  },
  {
   "cell_type": "code",
   "execution_count": 27,
   "metadata": {},
   "outputs": [
    {
     "name": "stdout",
     "output_type": "stream",
     "text": [
      "4 of Clubs\n",
      "3 of Hearts\n"
     ]
    }
   ],
   "source": [
    "    >>> c1 = Card(4, \"Clubs\")\n",
    "    >>> print(c1)\n",
    "\n",
    "    >>> c2 = Card(3, \"Hearts\")\n",
    "    >>> print(c2)"
   ]
  },
  {
   "cell_type": "code",
   "execution_count": 32,
   "metadata": {},
   "outputs": [
    {
     "data": {
      "text/plain": [
       "{'Club': 0, 'Diamonds': 1, 'Hearts': 2, 'Spades': 3}"
      ]
     },
     "execution_count": 32,
     "metadata": {},
     "output_type": "execute_result"
    }
   ],
   "source": [
    "compare_dict_suit"
   ]
  },
  {
   "cell_type": "code",
   "execution_count": 34,
   "metadata": {},
   "outputs": [
    {
     "data": {
      "text/plain": [
       "0"
      ]
     },
     "execution_count": 34,
     "metadata": {},
     "output_type": "execute_result"
    }
   ],
   "source": [
    "compare_dict_suit[\"Clubs\"]"
   ]
  },
  {
   "cell_type": "code",
   "execution_count": 28,
   "metadata": {},
   "outputs": [
    {
     "ename": "KeyError",
     "evalue": "'Clubs'",
     "output_type": "error",
     "traceback": [
      "\u001b[1;31m---------------------------------------------------------------------------\u001b[0m",
      "\u001b[1;31mKeyError\u001b[0m                                  Traceback (most recent call last)",
      "\u001b[1;32m<ipython-input-28-bf3d510f0a37>\u001b[0m in \u001b[0;36m<module>\u001b[1;34m()\u001b[0m\n\u001b[1;32m----> 1\u001b[1;33m \u001b[0mc1\u001b[0m \u001b[1;33m<\u001b[0m \u001b[0mc2\u001b[0m\u001b[1;33m\u001b[0m\u001b[0m\n\u001b[0m",
      "\u001b[1;32m<ipython-input-26-5a3834873ae9>\u001b[0m in \u001b[0;36m__lt__\u001b[1;34m(self, other)\u001b[0m\n\u001b[0;32m     50\u001b[0m     \u001b[1;32mdef\u001b[0m \u001b[0m__lt__\u001b[0m\u001b[1;33m(\u001b[0m\u001b[0mself\u001b[0m\u001b[1;33m,\u001b[0m\u001b[0mother\u001b[0m\u001b[1;33m)\u001b[0m\u001b[1;33m:\u001b[0m\u001b[1;33m\u001b[0m\u001b[0m\n\u001b[0;32m     51\u001b[0m         \u001b[1;31m### your code here\u001b[0m\u001b[1;33m\u001b[0m\u001b[1;33m\u001b[0m\u001b[0m\n\u001b[1;32m---> 52\u001b[1;33m         \u001b[1;32mif\u001b[0m \u001b[0mcompare_dict_suit\u001b[0m\u001b[1;33m[\u001b[0m\u001b[0mself\u001b[0m\u001b[1;33m.\u001b[0m\u001b[0msuit\u001b[0m\u001b[1;33m]\u001b[0m \u001b[1;33m<\u001b[0m \u001b[0mcompare_dict_suit\u001b[0m\u001b[1;33m[\u001b[0m\u001b[0mother\u001b[0m\u001b[1;33m.\u001b[0m\u001b[0msuit\u001b[0m\u001b[1;33m]\u001b[0m\u001b[1;33m:\u001b[0m\u001b[1;33m\u001b[0m\u001b[0m\n\u001b[0m\u001b[0;32m     53\u001b[0m             \u001b[1;32mreturn\u001b[0m \u001b[1;32mTrue\u001b[0m\u001b[1;33m\u001b[0m\u001b[0m\n\u001b[0;32m     54\u001b[0m         \u001b[1;32melif\u001b[0m \u001b[0mcompare_dict_suit\u001b[0m\u001b[1;33m[\u001b[0m\u001b[0mself\u001b[0m\u001b[1;33m.\u001b[0m\u001b[0msuit\u001b[0m\u001b[1;33m]\u001b[0m \u001b[1;33m==\u001b[0m \u001b[0mcompare_dict_suit\u001b[0m\u001b[1;33m[\u001b[0m\u001b[0mother\u001b[0m\u001b[1;33m.\u001b[0m\u001b[0msuit\u001b[0m\u001b[1;33m]\u001b[0m \u001b[1;32mand\u001b[0m \u001b[0mcompare_dict_rank\u001b[0m\u001b[1;33m[\u001b[0m\u001b[0mself\u001b[0m\u001b[1;33m.\u001b[0m\u001b[0mrank\u001b[0m\u001b[1;33m]\u001b[0m \u001b[1;33m<\u001b[0m \u001b[0mcompare_dict_rank\u001b[0m\u001b[1;33m[\u001b[0m\u001b[0mother\u001b[0m\u001b[1;33m.\u001b[0m\u001b[0mrank\u001b[0m\u001b[1;33m]\u001b[0m\u001b[1;33m:\u001b[0m\u001b[1;33m\u001b[0m\u001b[0m\n",
      "\u001b[1;31mKeyError\u001b[0m: 'Clubs'"
     ]
    }
   ],
   "source": [
    "    >>> c1 < c2"
   ]
  },
  {
   "cell_type": "code",
   "execution_count": 33,
   "metadata": {
    "collapsed": true
   },
   "outputs": [],
   "source": [
    "    compare_dict_suit = {\"Clubs\":0,\"Diamonds\":1,\"Hearts\":2,\"Spades\":3}\n",
    "    compare_dict_rank = {\"Ace\":1,2:2,3:3,4:4,5:5,6:6,7:7,8:8,9:9,10:10,\"Jack\":11,\"Queen\":12,\"King\":13}"
   ]
  },
  {
   "cell_type": "code",
   "execution_count": null,
   "metadata": {
    "collapsed": true
   },
   "outputs": [],
   "source": []
  },
  {
   "cell_type": "code",
   "execution_count": 21,
   "metadata": {},
   "outputs": [
    {
     "name": "stdout",
     "output_type": "stream",
     "text": [
      "3 of Hearts\n"
     ]
    }
   ],
   "source": [
    "    >>> c2 = Card(3, \"Hearts\")\n",
    "    >>> print(c2)"
   ]
  },
  {
   "cell_type": "code",
   "execution_count": null,
   "metadata": {
    "collapsed": true
   },
   "outputs": [],
   "source": []
  },
  {
   "cell_type": "code",
   "execution_count": 19,
   "metadata": {},
   "outputs": [
    {
     "name": "stdout",
     "output_type": "stream",
     "text": [
      "4 of Clubs\n"
     ]
    }
   ],
   "source": [
    "print(c1)"
   ]
  },
  {
   "cell_type": "code",
   "execution_count": 17,
   "metadata": {
    "collapsed": true
   },
   "outputs": [],
   "source": [
    "c1 = Card(4, \"Clubs\")"
   ]
  },
  {
   "cell_type": "code",
   "execution_count": 18,
   "metadata": {},
   "outputs": [
    {
     "data": {
      "text/plain": [
       "'4 of Clubs'"
      ]
     },
     "execution_count": 18,
     "metadata": {},
     "output_type": "execute_result"
    }
   ],
   "source": [
    "c1"
   ]
  },
  {
   "cell_type": "code",
   "execution_count": 11,
   "metadata": {},
   "outputs": [
    {
     "data": {
      "text/plain": [
       "'4 of Clubs'"
      ]
     },
     "execution_count": 11,
     "metadata": {},
     "output_type": "execute_result"
    }
   ],
   "source": [
    "repr(c1)"
   ]
  },
  {
   "cell_type": "code",
   "execution_count": 35,
   "metadata": {
    "collapsed": true
   },
   "outputs": [],
   "source": [
    "class Link:\n",
    "    \"\"\"A linked list.\n",
    "\n",
    "    >>> s = Link(1, Link(2, Link(3)))\n",
    "    >>> s.first\n",
    "    1\n",
    "    >>> s.rest\n",
    "    Link(2, Link(3))\n",
    "    \"\"\"\n",
    "    empty = ()\n",
    "\n",
    "    def __init__(self, first, rest=empty):\n",
    "        assert rest is Link.empty or isinstance(rest, Link)\n",
    "        self.first = first\n",
    "        self.rest = rest\n",
    "\n",
    "    def __repr__(self):\n",
    "        if self.rest is Link.empty:\n",
    "            return 'Link({})'.format(self.first)\n",
    "        else:\n",
    "            return 'Link({}, {})'.format(self.first, repr(self.rest))\n",
    "\n",
    "    def __str__(self):\n",
    "        \"\"\"Returns a human-readable string representation of the Link\n",
    "\n",
    "        >>> s = Link(1, Link(2, Link(3, Link(4))))\n",
    "        >>> str(s)\n",
    "        '<1 2 3 4>'\n",
    "        >>> str(Link(1))\n",
    "        '<1>'\n",
    "        >>> str(Link.empty)  # empty tuple\n",
    "        '()'\n",
    "        \"\"\"\n",
    "        string = '<'\n",
    "        while self.rest is not Link.empty:\n",
    "            string += str(self.first) + ' '\n",
    "            self = self.rest\n",
    "        return string + str(self.first) + '>'"
   ]
  },
  {
   "cell_type": "code",
   "execution_count": 36,
   "metadata": {
    "collapsed": true
   },
   "outputs": [],
   "source": [
    "s = Link(1, Link(2, Link(3)))"
   ]
  },
  {
   "cell_type": "code",
   "execution_count": 37,
   "metadata": {
    "collapsed": true
   },
   "outputs": [],
   "source": [
    "s1 = Link(1, Link(2, Link(3)))"
   ]
  },
  {
   "cell_type": "code",
   "execution_count": 42,
   "metadata": {},
   "outputs": [
    {
     "name": "stdout",
     "output_type": "stream",
     "text": [
      "<1 2 3>\n"
     ]
    }
   ],
   "source": [
    "print(s1)"
   ]
  },
  {
   "cell_type": "code",
   "execution_count": 38,
   "metadata": {
    "collapsed": true
   },
   "outputs": [],
   "source": [
    "a = [s,s1]"
   ]
  }
 ],
 "metadata": {
  "kernelspec": {
   "display_name": "Python 3",
   "language": "python",
   "name": "python3"
  },
  "language_info": {
   "codemirror_mode": {
    "name": "ipython",
    "version": 3
   },
   "file_extension": ".py",
   "mimetype": "text/x-python",
   "name": "python",
   "nbconvert_exporter": "python",
   "pygments_lexer": "ipython3",
   "version": "3.6.3"
  }
 },
 "nbformat": 4,
 "nbformat_minor": 2
}
