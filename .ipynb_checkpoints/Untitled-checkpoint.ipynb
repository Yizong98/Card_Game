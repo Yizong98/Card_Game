{
 "cells": [
  {
   "cell_type": "code",
   "execution_count": 4,
   "metadata": {
    "collapsed": true
   },
   "outputs": [],
   "source": [
    "class Card():\n",
    "    '''\n",
    "    This class represents a single card\n",
    "    Also compares two cards\n",
    "\n",
    "    >>> c1 = Card(4, \"Clubs\")\n",
    "    >>> print(c1)\n",
    "    4 of Clubs\n",
    "\n",
    "    >>> c2 = Card(3, \"Hearts\")\n",
    "    >>> print(c2)\n",
    "    3 of Hearts\n",
    "\n",
    "    >>> c1 < c2\n",
    "    True\n",
    "\n",
    "    >>> c1 > c2\n",
    "    False\n",
    "\n",
    "    >>> c1 == c2\n",
    "    False\n",
    "    '''\n",
    "\n",
    "    def __init__(self, rank, suit):\n",
    "        ### your code here\n",
    "        self.rank = rank\n",
    "        self.suit = suit\n",
    "        return\n",
    "\n",
    "    def __repr__(self):\n",
    "        ### your code here\n",
    "        return '%s of %s'%(self.rank,self.suit)\n",
    "\n",
    "    #def __str__(self):\n",
    "        ### your code here\n",
    "        #return \"{} of {}\".format(self.rank,self.suit)\n",
    "\n",
    "    def __eq__(self,other):\n",
    "        ### your code here\n",
    "        return\n",
    "\n",
    "    def __ne__(self,other):\n",
    "        ### your code here\n",
    "        return\n",
    "\n",
    "    def __lt__(self,other):\n",
    "        ### your code here\n",
    "        return\n",
    "\n",
    "    def __gt__(self,other):\n",
    "        ### your code here\n",
    "        return\n",
    "\n",
    "    def __le__(self,other):\n",
    "        ### your code here\n",
    "        return\n",
    "\n",
    "    def __ge__(self,other):\n",
    "        ### your code here\n",
    "        return"
   ]
  },
  {
   "cell_type": "code",
   "execution_count": 8,
   "metadata": {},
   "outputs": [
    {
     "name": "stdout",
     "output_type": "stream",
     "text": [
      "4 of Clubs\n"
     ]
    }
   ],
   "source": [
    "print(c1)"
   ]
  },
  {
   "cell_type": "code",
   "execution_count": 6,
   "metadata": {
    "collapsed": true
   },
   "outputs": [],
   "source": [
    "c1 = Card(4, \"Clubs\")"
   ]
  },
  {
   "cell_type": "code",
   "execution_count": 9,
   "metadata": {},
   "outputs": [
    {
     "data": {
      "text/plain": [
       "'4 of Clubs'"
      ]
     },
     "execution_count": 9,
     "metadata": {},
     "output_type": "execute_result"
    }
   ],
   "source": [
    "repr(c1)"
   ]
  }
 ],
 "metadata": {
  "kernelspec": {
   "display_name": "Python 3",
   "language": "python",
   "name": "python3"
  },
  "language_info": {
   "codemirror_mode": {
    "name": "ipython",
    "version": 3
   },
   "file_extension": ".py",
   "mimetype": "text/x-python",
   "name": "python",
   "nbconvert_exporter": "python",
   "pygments_lexer": "ipython3",
   "version": "3.6.3"
  }
 },
 "nbformat": 4,
 "nbformat_minor": 2
}
