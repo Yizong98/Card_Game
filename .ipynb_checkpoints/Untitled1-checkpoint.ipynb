{
 "cells": [
  {
   "cell_type": "code",
   "execution_count": 16,
   "metadata": {
    "collapsed": true
   },
   "outputs": [],
   "source": [
    "class Card():\n",
    "    '''\n",
    "    This class represents a single card\n",
    "    Also compares two cards\n",
    "\n",
    "    >>> c1 = Card(4, \"Clubs\")\n",
    "    >>> print(c1)\n",
    "    4 of Clubs\n",
    "\n",
    "    >>> c2 = Card(3, \"Hearts\")\n",
    "    >>> print(c2)\n",
    "    3 of Hearts\n",
    "\n",
    "    >>> c1 < c2\n",
    "    True\n",
    "\n",
    "    >>> c1 > c2\n",
    "    False\n",
    "\n",
    "    >>> c1 == c2\n",
    "    False\n",
    "    '''\n",
    "    compare_dict_suit = {\"Clubs\":0,\"Diamonds\":1,\"Hearts\":2,\"Spades\":3}\n",
    "    compare_dict_rank = {\"Ace\":1,2:2,3:3,4:4,5:5,6:6,7:7,8:8,9:9,10:10,\"Jack\":11,\"Queen\":12,\"King\":13}\n",
    "    \n",
    "    def __init__(self, rank, suit):\n",
    "        ### your code here\n",
    "        self.rank = rank\n",
    "        self.suit = suit\n",
    "        return\n",
    "\n",
    "    def __repr__(self):\n",
    "        ### your code here\n",
    "        return \"'%s of %s'\"%(self.rank,self.suit)\n",
    "\n",
    "    def __str__(self):\n",
    "        ### your code here\n",
    "        return \"{} of {}\".format(self.rank,self.suit)\n",
    "\n",
    "    def __eq__(self,other):\n",
    "        ### your code here\n",
    "        if self.compare_dict_suit[self.suit] == self.compare_dict_suit[other.suit] and self.compare_dict_rank[self.rank] == self.compare_dict_rank[other.rank]:\n",
    "            return True\n",
    "        return False\n",
    "\n",
    "    def __ne__(self,other):\n",
    "        ### your code here\n",
    "        return not self.__eq__(other)\n",
    "\n",
    "    def __lt__(self,other):\n",
    "        ### your code here\n",
    "        if self.compare_dict_suit[self.suit] < self.compare_dict_suit[other.suit]:\n",
    "            return True\n",
    "        elif self.compare_dict_suit[self.suit] == self.compare_dict_suit[other.suit] and self.compare_dict_rank[self.rank] < self.compare_dict_rank[other.rank]:\n",
    "            return True\n",
    "        return False\n",
    "\n",
    "    def __gt__(self,other):\n",
    "        ### your code here\n",
    "        if self.compare_dict_suit[self.suit] > self.compare_dict_suit[other.suit]:\n",
    "            return True\n",
    "        elif self.compare_dict_suit[self.suit] == self.compare_dict_suit[other.suit] and self.compare_dict_rank[self.rank] > self.compare_dict_rank[other.rank]:\n",
    "            return True\n",
    "        return False\n",
    "\n",
    "    def __le__(self,other):\n",
    "        ### your code here\n",
    "        return self.__lt__(other) or self.__eq__(other)\n",
    "\n",
    "    def __ge__(self,other):\n",
    "        ### your code here\n",
    "        return self.__gt__(other) or self.__eq__(other)"
   ]
  },
  {
   "cell_type": "code",
   "execution_count": 19,
   "metadata": {},
   "outputs": [
    {
     "data": {
      "text/plain": [
       "False"
      ]
     },
     "execution_count": 19,
     "metadata": {},
     "output_type": "execute_result"
    }
   ],
   "source": [
    "    >>> c1 >= c2"
   ]
  },
  {
   "cell_type": "code",
   "execution_count": 8,
   "metadata": {},
   "outputs": [
    {
     "data": {
      "text/plain": [
       "False"
      ]
     },
     "execution_count": 8,
     "metadata": {},
     "output_type": "execute_result"
    }
   ],
   "source": [
    "    >>> c1 > c2"
   ]
  },
  {
   "cell_type": "code",
   "execution_count": 18,
   "metadata": {},
   "outputs": [
    {
     "name": "stdout",
     "output_type": "stream",
     "text": [
      "4 of Clubs\n",
      "3 of Hearts\n"
     ]
    }
   ],
   "source": [
    "    >>> c1 = Card(4, \"Clubs\")\n",
    "    >>> print(c1)\n",
    "\n",
    "    >>> c2 = Card(3, \"Hearts\")\n",
    "    >>> print(c2)"
   ]
  },
  {
   "cell_type": "code",
   "execution_count": 41,
   "metadata": {},
   "outputs": [
    {
     "data": {
      "text/plain": [
       "52"
      ]
     },
     "execution_count": 41,
     "metadata": {},
     "output_type": "execute_result"
    }
   ],
   "source": [
    "        >>> cards = Deck()\n",
    "        >>> len(cards.deck)"
   ]
  },
  {
   "cell_type": "code",
   "execution_count": 42,
   "metadata": {},
   "outputs": [
    {
     "data": {
      "text/plain": [
       "0"
      ]
     },
     "execution_count": 42,
     "metadata": {},
     "output_type": "execute_result"
    }
   ],
   "source": [
    "        >>> cards = Deck()\n",
    "        >>> len(cards.dealt_cards)"
   ]
  },
  {
   "cell_type": "code",
   "execution_count": 66,
   "metadata": {
    "scrolled": true
   },
   "outputs": [
    {
     "name": "stdout",
     "output_type": "stream",
     "text": [
      "In Deck:\n",
      "A of Clubs\n",
      "A of Diamonds\n",
      "A of Hearts\n",
      "A of Spades\n",
      "2 of Clubs\n",
      "2 of Diamonds\n",
      "2 of Hearts\n",
      "2 of Spades\n",
      "3 of Clubs\n",
      "3 of Diamonds\n",
      "3 of Hearts\n",
      "3 of Spades\n",
      "4 of Clubs\n",
      "4 of Diamonds\n",
      "4 of Hearts\n",
      "4 of Spades\n",
      "5 of Clubs\n",
      "5 of Diamonds\n",
      "5 of Hearts\n",
      "5 of Spades\n",
      "6 of Clubs\n",
      "6 of Diamonds\n",
      "6 of Hearts\n",
      "6 of Spades\n",
      "7 of Clubs\n",
      "7 of Diamonds\n",
      "7 of Hearts\n",
      "7 of Spades\n",
      "8 of Clubs\n",
      "8 of Diamonds\n",
      "8 of Hearts\n",
      "8 of Spades\n",
      "9 of Clubs\n",
      "9 of Diamonds\n",
      "9 of Hearts\n",
      "9 of Spades\n",
      "10 of Clubs\n",
      "10 of Diamonds\n",
      "10 of Hearts\n",
      "10 of Spades\n",
      "J of Clubs\n",
      "J of Diamonds\n",
      "J of Hearts\n",
      "J of Spades\n",
      "Q of Clubs\n",
      "Q of Diamonds\n",
      "Q of Hearts\n",
      "Q of Spades\n",
      "K of Clubs\n",
      "K of Diamonds\n",
      "K of Hearts\n",
      "K of Spades\n",
      "Dealt Out:\n"
     ]
    }
   ],
   "source": [
    "        >>> cards = Deck()\n",
    "        >>> print(cards)"
   ]
  },
  {
   "cell_type": "code",
   "execution_count": 94,
   "metadata": {
    "collapsed": true
   },
   "outputs": [],
   "source": [
    "        >>> cards = Deck()"
   ]
  },
  {
   "cell_type": "code",
   "execution_count": 95,
   "metadata": {
    "scrolled": true
   },
   "outputs": [
    {
     "data": {
      "text/plain": [
       "In Deck:\n",
       "\"A of Clubs\"\n",
       "\"A of Diamonds\"\n",
       "\"A of Hearts\"\n",
       "\"A of Spades\"\n",
       "\"2 of Clubs\"\n",
       "\"2 of Diamonds\"\n",
       "\"2 of Hearts\"\n",
       "\"2 of Spades\"\n",
       "\"3 of Clubs\"\n",
       "\"3 of Diamonds\"\n",
       "\"3 of Hearts\"\n",
       "\"3 of Spades\"\n",
       "\"4 of Clubs\"\n",
       "\"4 of Diamonds\"\n",
       "\"4 of Hearts\"\n",
       "\"4 of Spades\"\n",
       "\"5 of Clubs\"\n",
       "\"5 of Diamonds\"\n",
       "\"5 of Hearts\"\n",
       "\"5 of Spades\"\n",
       "\"6 of Clubs\"\n",
       "\"6 of Diamonds\"\n",
       "\"6 of Hearts\"\n",
       "\"6 of Spades\"\n",
       "\"7 of Clubs\"\n",
       "\"7 of Diamonds\"\n",
       "\"7 of Hearts\"\n",
       "\"7 of Spades\"\n",
       "\"8 of Clubs\"\n",
       "\"8 of Diamonds\"\n",
       "\"8 of Hearts\"\n",
       "\"8 of Spades\"\n",
       "\"9 of Clubs\"\n",
       "\"9 of Diamonds\"\n",
       "\"9 of Hearts\"\n",
       "\"9 of Spades\"\n",
       "\"10 of Clubs\"\n",
       "\"10 of Diamonds\"\n",
       "\"10 of Hearts\"\n",
       "\"10 of Spades\"\n",
       "\"J of Clubs\"\n",
       "\"J of Diamonds\"\n",
       "\"J of Hearts\"\n",
       "\"J of Spades\"\n",
       "\"Q of Clubs\"\n",
       "\"Q of Diamonds\"\n",
       "\"Q of Hearts\"\n",
       "\"Q of Spades\"\n",
       "\"K of Clubs\"\n",
       "\"K of Diamonds\"\n",
       "\"K of Hearts\"\n",
       "\"K of Spades\"\n",
       "Dealt Out:"
      ]
     },
     "execution_count": 95,
     "metadata": {},
     "output_type": "execute_result"
    }
   ],
   "source": [
    "cards"
   ]
  },
  {
   "cell_type": "code",
   "execution_count": 97,
   "metadata": {
    "collapsed": true
   },
   "outputs": [],
   "source": [
    "import numpy as np"
   ]
  },
  {
   "cell_type": "code",
   "execution_count": 145,
   "metadata": {},
   "outputs": [],
   "source": [
    "        >>> deck = Deck()\n",
    "        >>> np.random.seed(5)\n",
    "        >>> deck.shuffle()"
   ]
  },
  {
   "cell_type": "code",
   "execution_count": null,
   "metadata": {
    "collapsed": true
   },
   "outputs": [],
   "source": [
    "        [9 of Hearts, 4 of Hearts, 7 of Spades, 7 of Diamonds, 6 of Hearts]"
   ]
  },
  {
   "cell_type": "code",
   "execution_count": 146,
   "metadata": {
    "scrolled": true
   },
   "outputs": [
    {
     "name": "stdout",
     "output_type": "stream",
     "text": [
      "['9 of Hearts', '8 of Diamonds', 'Q of Diamonds', '5 of Spades', '8 of Spades', '6 of Diamonds', '2 of Hearts', '9 of Diamonds', 'A of Hearts', 'A of Spades', '8 of Clubs', 'K of Clubs', '2 of Clubs', '5 of Diamonds', 'A of Clubs', '7 of Clubs', '2 of Diamonds', 'K of Hearts', 'Q of Clubs', 'J of Spades', 'K of Spades', '9 of Clubs', '6 of Spades', '7 of Hearts', '3 of Hearts', 'Q of Hearts', '7 of Diamonds', '5 of Hearts', '6 of Hearts', '6 of Clubs', 'J of Diamonds', '10 of Diamonds', 'A of Diamonds', '3 of Spades', '4 of Diamonds', 'J of Hearts', 'J of Clubs', '4 of Spades', '4 of Clubs', '2 of Spades', 'K of Diamonds', '8 of Hearts', '7 of Spades', '10 of Spades', '10 of Clubs', '3 of Clubs', '3 of Diamonds', '5 of Clubs', '10 of Hearts', 'Q of Spades', '4 of Hearts', '9 of Spades']\n"
     ]
    }
   ],
   "source": [
    "print(deck.deck)"
   ]
  },
  {
   "cell_type": "code",
   "execution_count": 147,
   "metadata": {},
   "outputs": [
    {
     "name": "stdout",
     "output_type": "stream",
     "text": [
      "In Deck:\n",
      "A of Clubs\n",
      "A of Diamonds\n",
      "A of Hearts\n",
      "A of Spades\n",
      "2 of Clubs\n",
      "2 of Diamonds\n",
      "2 of Hearts\n",
      "2 of Spades\n",
      "3 of Clubs\n",
      "3 of Diamonds\n",
      "3 of Hearts\n",
      "3 of Spades\n",
      "4 of Clubs\n",
      "4 of Diamonds\n",
      "4 of Hearts\n",
      "4 of Spades\n",
      "5 of Clubs\n",
      "5 of Diamonds\n",
      "5 of Hearts\n",
      "5 of Spades\n",
      "6 of Clubs\n",
      "6 of Diamonds\n",
      "6 of Hearts\n",
      "6 of Spades\n",
      "7 of Clubs\n",
      "7 of Diamonds\n",
      "7 of Hearts\n",
      "7 of Spades\n",
      "8 of Clubs\n",
      "8 of Diamonds\n",
      "8 of Hearts\n",
      "8 of Spades\n",
      "9 of Clubs\n",
      "9 of Diamonds\n",
      "9 of Hearts\n",
      "9 of Spades\n",
      "10 of Clubs\n",
      "10 of Diamonds\n",
      "10 of Hearts\n",
      "10 of Spades\n",
      "J of Clubs\n",
      "J of Diamonds\n",
      "J of Hearts\n",
      "J of Spades\n",
      "Q of Clubs\n",
      "Q of Diamonds\n",
      "Q of Hearts\n",
      "Q of Spades\n",
      "K of Clubs\n",
      "K of Diamonds\n",
      "K of Hearts\n",
      "K of Spades\n",
      "Dealt Out:\n"
     ]
    }
   ],
   "source": [
    "        >>> cards = Deck()\n",
    "        >>> print(cards)"
   ]
  },
  {
   "cell_type": "code",
   "execution_count": 144,
   "metadata": {},
   "outputs": [],
   "source": [
    "class Deck():\n",
    "    \n",
    "    deck_dict_suit = {\"Clubs\":0,\"Diamonds\":1,\"Hearts\":2,\"Spades\":3}\n",
    "    deck_dict_rank = {\"A\":1,2:2,3:3,4:4,5:5,6:6,7:7,8:8,9:9,10:10,\"J\":11,\"Q\":12,\"K\":13}\n",
    "    def __init__(self):\n",
    "        \"\"\"Initializes the deck of cards\n",
    "        >>> cards = Deck()\n",
    "        >>> len(cards.deck)\n",
    "        52\n",
    "        >>> cards = Deck()\n",
    "        >>> len(cards.dealt_cards)\n",
    "        0\n",
    "        >>> cards = Deck()\n",
    "        >>> print(cards)\n",
    "        In Deck:\n",
    "        A of Clubs\n",
    "        2 of Clubs\n",
    "        3 of Clubs\n",
    "        4 of Clubs\n",
    "        5 of Clubs\n",
    "        6 of Clubs\n",
    "        7 of Clubs\n",
    "        8 of Clubs\n",
    "        9 of Clubs\n",
    "        10 of Clubs\n",
    "        J of Clubs\n",
    "        Q of Clubs\n",
    "        K of Clubs\n",
    "        A of Diamonds\n",
    "        2 of Diamonds\n",
    "        3 of Diamonds\n",
    "        4 of Diamonds\n",
    "        5 of Diamonds\n",
    "        6 of Diamonds\n",
    "        7 of Diamonds\n",
    "        8 of Diamonds\n",
    "        9 of Diamonds\n",
    "        10 of Diamonds\n",
    "        J of Diamonds\n",
    "        Q of Diamonds\n",
    "        K of Diamonds\n",
    "        A of Hearts\n",
    "        2 of Hearts\n",
    "        3 of Hearts\n",
    "        4 of Hearts\n",
    "        5 of Hearts\n",
    "        6 of Hearts\n",
    "        7 of Hearts\n",
    "        8 of Hearts\n",
    "        9 of Hearts\n",
    "        10 of Hearts\n",
    "        J of Hearts\n",
    "        Q of Hearts\n",
    "        K of Hearts\n",
    "        A of Spades\n",
    "        2 of Spades\n",
    "        3 of Spades\n",
    "        4 of Spades\n",
    "        5 of Spades\n",
    "        6 of Spades\n",
    "        7 of Spades\n",
    "        8 of Spades\n",
    "        9 of Spades\n",
    "        10 of Spades\n",
    "        J of Spades\n",
    "        Q of Spades\n",
    "        K of Spades\n",
    "        Dealt Out:\n",
    "        \"\"\"\n",
    "        # your code here\n",
    "        self.deck = [\"%s of %s\"%(rank,suit) for suit in self.deck_dict_suit for rank in self.deck_dict_rank ]\n",
    "        self.dealt_cards = []\n",
    "        return\n",
    "\n",
    "    def shuffle(self):\n",
    "        \"\"\"\n",
    "        This method shuffles the deck using np.random.choice\n",
    "        >>> deck = Deck()\n",
    "        >>> np.random.seed(5)\n",
    "        >>> deck.shuffle()\n",
    "        >>> print(deck.deck[:5])\n",
    "        [9 of Hearts, 4 of Hearts, 7 of Spades, 7 of Diamonds, 6 of Hearts]\n",
    "        >>> deck = Deck()\n",
    "        >>> hand = deck.deal_cards(5)\n",
    "        >>> np.random.seed(5)\n",
    "        >>> deck.shuffle()\n",
    "        >>> deck.deck[:5]\n",
    "        [A of Spades, 9 of Hearts, Q of Spades, Q of Diamonds, J of Hearts]\n",
    "        \"\"\"\n",
    "        # your code here\n",
    "        self.deck = np.random.choice(self.deck,len(self.deck),replace=False).tolist()\n",
    "        return \n",
    "\n",
    "    def deal_cards(self, n):\n",
    "        \"\"\"\n",
    "        This method deals out n cards and sends them all to the dealt cards list.\n",
    "        It also returns the list of the cards.\n",
    "        >>> cards = Deck()\n",
    "        >>> cards.deal_cards(5)\n",
    "        [A of Clubs, 2 of Clubs, 3 of Clubs, 4 of Clubs, 5 of Clubs]\n",
    "        >>> cards = Deck()\n",
    "        >>> hand = cards.deal_cards(5)\n",
    "        >>> cards.deal_cards(5)\n",
    "        [6 of Clubs, 7 of Clubs, 8 of Clubs, 9 of Clubs, 10 of Clubs]\n",
    "        >>> cards = Deck()\n",
    "        >>> hand = cards.deal_cards(5)\n",
    "        >>> print(cards)\n",
    "        In Deck:\n",
    "        6 of Clubs\n",
    "        7 of Clubs\n",
    "        8 of Clubs\n",
    "        9 of Clubs\n",
    "        10 of Clubs\n",
    "        J of Clubs\n",
    "        Q of Clubs\n",
    "        K of Clubs\n",
    "        A of Diamonds\n",
    "        2 of Diamonds\n",
    "        3 of Diamonds\n",
    "        4 of Diamonds\n",
    "        5 of Diamonds\n",
    "        6 of Diamonds\n",
    "        7 of Diamonds\n",
    "        8 of Diamonds\n",
    "        9 of Diamonds\n",
    "        10 of Diamonds\n",
    "        J of Diamonds\n",
    "        Q of Diamonds\n",
    "        K of Diamonds\n",
    "        A of Hearts\n",
    "        2 of Hearts\n",
    "        3 of Hearts\n",
    "        4 of Hearts\n",
    "        5 of Hearts\n",
    "        6 of Hearts\n",
    "        7 of Hearts\n",
    "        8 of Hearts\n",
    "        9 of Hearts\n",
    "        10 of Hearts\n",
    "        J of Hearts\n",
    "        Q of Hearts\n",
    "        K of Hearts\n",
    "        A of Spades\n",
    "        2 of Spades\n",
    "        3 of Spades\n",
    "        4 of Spades\n",
    "        5 of Spades\n",
    "        6 of Spades\n",
    "        7 of Spades\n",
    "        8 of Spades\n",
    "        9 of Spades\n",
    "        10 of Spades\n",
    "        J of Spades\n",
    "        Q of Spades\n",
    "        K of Spades\n",
    "        Dealt Out:\n",
    "        A of Clubs\n",
    "        2 of Clubs\n",
    "        3 of Clubs\n",
    "        4 of Clubs\n",
    "        5 of Clubs\n",
    "        \"\"\"\n",
    "        # your code here\n",
    "\n",
    "    def __repr__(self):\n",
    "        # your code here\n",
    "        return \"In Deck:\\n\"  + \"\\n\".join('\"{0}\"'.format(w) for w in self.deck) + \"\\nDealt Out:\" + \"\\n\".join('\"{0}\"'.format(w) for w in self.dealt_card)\n",
    "\n",
    "    def __str__(self):\n",
    "        # your code here\n",
    "        return \"In Deck:\\n\"  + '\\n'.join(self.deck) + \"\\nDealt Out:\" + '\\n'.join(self.dealt_cards)"
   ]
  },
  {
   "cell_type": "code",
   "execution_count": 33,
   "metadata": {},
   "outputs": [],
   "source": [
    "compare_dict_sui = {\"Clubs\":0,\"Diamonds\":1,\"Hearts\":2,\"Spades\":3}\n",
    "compare_dict_ran = {\"Ace\":1,2:2,3:3,4:4,5:5,6:6,7:7,8:8,9:9,10:10,\"Jack\":11,\"Queen\":12,\"King\":13}"
   ]
  },
  {
   "cell_type": "code",
   "execution_count": 44,
   "metadata": {},
   "outputs": [],
   "source": [
    "butt = ['{} of {}'.format(rank,suit) for rank in compare_dict_ran for suit in compare_dict_sui]"
   ]
  },
  {
   "cell_type": "code",
   "execution_count": 80,
   "metadata": {
    "collapsed": true
   },
   "outputs": [],
   "source": [
    "haha = '\\n'.join(butt)"
   ]
  },
  {
   "cell_type": "code",
   "execution_count": 81,
   "metadata": {
    "collapsed": true
   },
   "outputs": [],
   "source": [
    "haha = \",\".join(haha)"
   ]
  }
 ],
 "metadata": {
  "kernelspec": {
   "display_name": "Python 3",
   "language": "python",
   "name": "python3"
  },
  "language_info": {
   "codemirror_mode": {
    "name": "ipython",
    "version": 3
   },
   "file_extension": ".py",
   "mimetype": "text/x-python",
   "name": "python",
   "nbconvert_exporter": "python",
   "pygments_lexer": "ipython3",
   "version": "3.6.3"
  }
 },
 "nbformat": 4,
 "nbformat_minor": 2
}
